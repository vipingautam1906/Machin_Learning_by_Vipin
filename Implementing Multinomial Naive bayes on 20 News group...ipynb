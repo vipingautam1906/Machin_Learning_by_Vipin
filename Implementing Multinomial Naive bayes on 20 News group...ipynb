{
 "cells": [
  {
   "cell_type": "markdown",
   "id": "69c3ffef",
   "metadata": {},
   "source": [
    "## Implementation of multinomial Naive Bayes classifier on ‘20 Newsgroups Dataset’."
   ]
  },
  {
   "cell_type": "code",
   "execution_count": 118,
   "id": "d4e9a557",
   "metadata": {},
   "outputs": [],
   "source": [
    "import pandas as pd\n",
    "import numpy as np\n",
    "import nltk\n",
    "from nltk.corpus import stopwords\n",
    "from string import punctuation\n",
    "import os\n",
    "import operator\n",
    "from sklearn.metrics import accuracy_score\n",
    "from sklearn.model_selection import train_test_split\n",
    "from sklearn.metrics import confusion_matrix\n",
    "import seaborn as sns"
   ]
  },
  {
   "cell_type": "code",
   "execution_count": 6,
   "id": "1020e1a3",
   "metadata": {},
   "outputs": [
    {
     "name": "stdout",
     "output_type": "stream",
     "text": [
      "['alt.atheism', 'comp.graphics', 'comp.os.ms-windows.misc', 'comp.sys.ibm.pc.hardware', 'comp.sys.mac.hardware', 'comp.windows.x', 'misc.forsale', 'rec.autos', 'rec.motorcycles', 'rec.sport.baseball', 'rec.sport.hockey', 'sci.crypt', 'sci.electronics', 'sci.med', 'sci.space', 'soc.religion.christian', 'talk.politics.guns', 'talk.politics.mideast', 'talk.politics.misc', 'talk.religion.misc']\n"
     ]
    }
   ],
   "source": [
    "stopwords_lst = stopwords.words('english') + list(punctuation)\n",
    "stopwords_lst += ['newsgroups', 'xref', 'path', 'from', 'subject', 'sender', 'organisation', 'apr','gmt', 'last','better',\n",
    "                  'never','every','even','two','good','used','first','need','going','must','really','might','well','without','made','give',\n",
    " 'look','try','far','less','seem','new','make','many','way','since','using','take','help','thanks','send','free','may',\n",
    " 'see','much','want','find','would','one','like','get','use','also','could','say','us','go','please','said','set','got',\n",
    " 'sure','come','lot','seems','able','anything','put', '--', '|>', '>>', '93', 'xref', 'cantaloupe.srv.cs.cmu.edu', '20', \n",
    " '16', \"max>'ax>'ax>'ax>'ax>'ax>'ax>'ax>'ax>'ax>'ax>'ax>'ax>'ax>'ax>'\", '21', '19', '10', '17', '24', 'reply-to:', \n",
    " 'thu', 'nntp-posting-host:', 're:','25''18'\"i'd\"'>i''22''fri,''23''>the','references:','xref:','sender:','writes:','1993',\n",
    " 'organization:']\n",
    "\n",
    "folder = os.listdir('C:/Users/vipin/Downloads/20_newsgroups')  #Storing list of directories at path...\n",
    "print(folder)"
   ]
  },
  {
   "cell_type": "markdown",
   "id": "a3ce33e4",
   "metadata": {},
   "source": [
    "* Here we are iterating over all the directories one by one\n",
    "* For every directory we again iterate over all the files inside the directory\n",
    "* then we read each file and see if word inside the file is also present in stopwords\n",
    "    if not then we add the word inside our vocablity along with its frequency...\n",
    "* lastly we are just sorting the vocalulary of words we are interested in reverse order based on their frequency."
   ]
  },
  {
   "cell_type": "code",
   "execution_count": 7,
   "id": "d7572f7c",
   "metadata": {},
   "outputs": [],
   "source": [
    "vocabulary = {}\n",
    "for i in range( len(folder) ):\n",
    "    current_folder = os.listdir('C:/Users/vipin/Downloads/20_newsgroups/' + folder[i])\n",
    "    \n",
    "    for j in range( len(current_folder) ):\n",
    "        filePath = 'C:/Users/vipin/Downloads/20_newsgroups/'+ folder[i] + '/' + current_folder[j]\n",
    "        data = open(filePath, 'r').read()\n",
    "        for word in data.split():\n",
    "            if word.lower() not in stopwords_lst:\n",
    "                if word.lower() not in vocabulary:\n",
    "                    vocabulary[word.lower()] = 1\n",
    "                else:\n",
    "                    vocabulary[word.lower()] = vocabulary[word.lower()] + 1\n",
    "\n",
    "sorted_vocabulary = sorted(vocabulary.items(), key=operator.itemgetter(1), reverse = True)"
   ]
  },
  {
   "cell_type": "markdown",
   "id": "b25814e8",
   "metadata": {},
   "source": [
    "* We are considering the most frequent 1000 words as features\n",
    "* We then create the dataframe which columns headers as most frequent words of our vocabulary"
   ]
  },
  {
   "cell_type": "code",
   "execution_count": 9,
   "id": "dbda0e9f",
   "metadata": {},
   "outputs": [
    {
     "data": {
      "text/html": [
       "<div>\n",
       "<style scoped>\n",
       "    .dataframe tbody tr th:only-of-type {\n",
       "        vertical-align: middle;\n",
       "    }\n",
       "\n",
       "    .dataframe tbody tr th {\n",
       "        vertical-align: top;\n",
       "    }\n",
       "\n",
       "    .dataframe thead th {\n",
       "        text-align: right;\n",
       "    }\n",
       "</style>\n",
       "<table border=\"1\" class=\"dataframe\">\n",
       "  <thead>\n",
       "    <tr style=\"text-align: right;\">\n",
       "      <th></th>\n",
       "      <th>subject:</th>\n",
       "      <th>from:</th>\n",
       "      <th>date:</th>\n",
       "      <th>newsgroups:</th>\n",
       "      <th>message-id:</th>\n",
       "      <th>lines:</th>\n",
       "      <th>path:</th>\n",
       "      <th>article</th>\n",
       "      <th>people</th>\n",
       "      <th>university</th>\n",
       "      <th>...</th>\n",
       "      <th>applications</th>\n",
       "      <th>internal</th>\n",
       "      <th>lord</th>\n",
       "      <th>weapons</th>\n",
       "      <th>wondering</th>\n",
       "      <th>belief</th>\n",
       "      <th>-&gt;</th>\n",
       "      <th>oil</th>\n",
       "      <th>stephanopoulos:</th>\n",
       "      <th>base</th>\n",
       "    </tr>\n",
       "  </thead>\n",
       "  <tbody>\n",
       "  </tbody>\n",
       "</table>\n",
       "<p>0 rows × 1000 columns</p>\n",
       "</div>"
      ],
      "text/plain": [
       "Empty DataFrame\n",
       "Columns: [subject:, from:, date:, newsgroups:, message-id:, lines:, path:, article, people, university, know, think, x, i'm, 1, 2, distribution:, time, 0, it., anyone, world, right, believe, still, something, computer, system, i've, god, 15, 3, back, can't, news, state, 6, work, someone, >in, 5, government, problem, 23, another, read, usa, 4, information, >the, number, that's, things, part, fri,, point, little, 22, windows, >i, tue,, file, data, question, probably, years, different, available, (usenet, space, it,, around, long, tell, least, best, program, software, public, power, thu,, thing, drive, run, support, however,, i'd, 18, rather, enough, case, hard, keep, fact, 25, let, science, called, great, ..., ...]\n",
       "Index: []\n",
       "\n",
       "[0 rows x 1000 columns]"
      ]
     },
     "execution_count": 9,
     "metadata": {},
     "output_type": "execute_result"
    }
   ],
   "source": [
    "sorted_vocabulary = sorted_vocabulary[0:1000] #taking slice of first 1k frequent words for featureset\n",
    "\n",
    "X = []\n",
    "for i in range(len(sorted_vocabulary)):\n",
    "    X.append( sorted_vocabulary[i][0] )\n",
    "dataset = pd.DataFrame(columns=X)\n",
    "dataset.head()\n"
   ]
  },
  {
   "cell_type": "markdown",
   "id": "ab949543",
   "metadata": {},
   "source": [
    "* Now we start filling the frequencies in Dataset that we have formed.\n",
    "* We iterate over all the folders and for every folder we iterate over each file and see if word is the feature we are interested in then we just increment the count"
   ]
  },
  {
   "cell_type": "code",
   "execution_count": 10,
   "id": "9fba8ad0",
   "metadata": {},
   "outputs": [],
   "source": [
    "for i in range(len(folder)):\n",
    "    current_folder = os.listdir('C:/Users/vipin/Downloads/20_newsgroups/' + folder[i])\n",
    "    \n",
    "    for j in range( len(current_folder) ):\n",
    "        dataset.loc[ len(dataset) ] = 0\n",
    "        \n",
    "        filePath = 'C:/Users/vipin/Downloads/20_newsgroups/'+ folder[i] + '/' + current_folder[j]\n",
    "        data = open(filePath, 'r').read()\n",
    "        for word in data.split():\n",
    "            if word.lower() in X:\n",
    "                dataset[word.lower()][len(dataset)-1] += 1\n",
    "        "
   ]
  },
  {
   "cell_type": "code",
   "execution_count": 11,
   "id": "33d6f595",
   "metadata": {},
   "outputs": [
    {
     "data": {
      "text/html": [
       "<div>\n",
       "<style scoped>\n",
       "    .dataframe tbody tr th:only-of-type {\n",
       "        vertical-align: middle;\n",
       "    }\n",
       "\n",
       "    .dataframe tbody tr th {\n",
       "        vertical-align: top;\n",
       "    }\n",
       "\n",
       "    .dataframe thead th {\n",
       "        text-align: right;\n",
       "    }\n",
       "</style>\n",
       "<table border=\"1\" class=\"dataframe\">\n",
       "  <thead>\n",
       "    <tr style=\"text-align: right;\">\n",
       "      <th></th>\n",
       "      <th>subject:</th>\n",
       "      <th>from:</th>\n",
       "      <th>date:</th>\n",
       "      <th>newsgroups:</th>\n",
       "      <th>message-id:</th>\n",
       "      <th>lines:</th>\n",
       "      <th>path:</th>\n",
       "      <th>article</th>\n",
       "      <th>people</th>\n",
       "      <th>university</th>\n",
       "      <th>...</th>\n",
       "      <th>applications</th>\n",
       "      <th>internal</th>\n",
       "      <th>lord</th>\n",
       "      <th>weapons</th>\n",
       "      <th>wondering</th>\n",
       "      <th>belief</th>\n",
       "      <th>-&gt;</th>\n",
       "      <th>oil</th>\n",
       "      <th>stephanopoulos:</th>\n",
       "      <th>base</th>\n",
       "    </tr>\n",
       "  </thead>\n",
       "  <tbody>\n",
       "    <tr>\n",
       "      <th>0</th>\n",
       "      <td>1</td>\n",
       "      <td>1</td>\n",
       "      <td>1</td>\n",
       "      <td>1</td>\n",
       "      <td>1</td>\n",
       "      <td>1</td>\n",
       "      <td>1</td>\n",
       "      <td>0</td>\n",
       "      <td>4</td>\n",
       "      <td>3</td>\n",
       "      <td>...</td>\n",
       "      <td>0</td>\n",
       "      <td>0</td>\n",
       "      <td>0</td>\n",
       "      <td>0</td>\n",
       "      <td>0</td>\n",
       "      <td>2</td>\n",
       "      <td>0</td>\n",
       "      <td>0</td>\n",
       "      <td>0</td>\n",
       "      <td>0</td>\n",
       "    </tr>\n",
       "    <tr>\n",
       "      <th>1</th>\n",
       "      <td>1</td>\n",
       "      <td>1</td>\n",
       "      <td>1</td>\n",
       "      <td>1</td>\n",
       "      <td>1</td>\n",
       "      <td>1</td>\n",
       "      <td>1</td>\n",
       "      <td>3</td>\n",
       "      <td>18</td>\n",
       "      <td>0</td>\n",
       "      <td>...</td>\n",
       "      <td>0</td>\n",
       "      <td>0</td>\n",
       "      <td>0</td>\n",
       "      <td>0</td>\n",
       "      <td>0</td>\n",
       "      <td>15</td>\n",
       "      <td>0</td>\n",
       "      <td>0</td>\n",
       "      <td>0</td>\n",
       "      <td>0</td>\n",
       "    </tr>\n",
       "    <tr>\n",
       "      <th>2</th>\n",
       "      <td>1</td>\n",
       "      <td>1</td>\n",
       "      <td>1</td>\n",
       "      <td>1</td>\n",
       "      <td>1</td>\n",
       "      <td>1</td>\n",
       "      <td>1</td>\n",
       "      <td>1</td>\n",
       "      <td>1</td>\n",
       "      <td>1</td>\n",
       "      <td>...</td>\n",
       "      <td>0</td>\n",
       "      <td>0</td>\n",
       "      <td>0</td>\n",
       "      <td>0</td>\n",
       "      <td>0</td>\n",
       "      <td>0</td>\n",
       "      <td>0</td>\n",
       "      <td>0</td>\n",
       "      <td>0</td>\n",
       "      <td>1</td>\n",
       "    </tr>\n",
       "    <tr>\n",
       "      <th>3</th>\n",
       "      <td>1</td>\n",
       "      <td>1</td>\n",
       "      <td>1</td>\n",
       "      <td>1</td>\n",
       "      <td>1</td>\n",
       "      <td>1</td>\n",
       "      <td>1</td>\n",
       "      <td>0</td>\n",
       "      <td>0</td>\n",
       "      <td>2</td>\n",
       "      <td>...</td>\n",
       "      <td>0</td>\n",
       "      <td>0</td>\n",
       "      <td>0</td>\n",
       "      <td>0</td>\n",
       "      <td>0</td>\n",
       "      <td>0</td>\n",
       "      <td>0</td>\n",
       "      <td>0</td>\n",
       "      <td>0</td>\n",
       "      <td>0</td>\n",
       "    </tr>\n",
       "    <tr>\n",
       "      <th>4</th>\n",
       "      <td>1</td>\n",
       "      <td>1</td>\n",
       "      <td>1</td>\n",
       "      <td>1</td>\n",
       "      <td>1</td>\n",
       "      <td>1</td>\n",
       "      <td>1</td>\n",
       "      <td>1</td>\n",
       "      <td>0</td>\n",
       "      <td>0</td>\n",
       "      <td>...</td>\n",
       "      <td>0</td>\n",
       "      <td>0</td>\n",
       "      <td>0</td>\n",
       "      <td>0</td>\n",
       "      <td>0</td>\n",
       "      <td>0</td>\n",
       "      <td>0</td>\n",
       "      <td>0</td>\n",
       "      <td>0</td>\n",
       "      <td>0</td>\n",
       "    </tr>\n",
       "  </tbody>\n",
       "</table>\n",
       "<p>5 rows × 1000 columns</p>\n",
       "</div>"
      ],
      "text/plain": [
       "  subject: from: date: newsgroups: message-id: lines: path: article people  \\\n",
       "0        1     1     1           1           1      1     1       0      4   \n",
       "1        1     1     1           1           1      1     1       3     18   \n",
       "2        1     1     1           1           1      1     1       1      1   \n",
       "3        1     1     1           1           1      1     1       0      0   \n",
       "4        1     1     1           1           1      1     1       1      0   \n",
       "\n",
       "  university  ... applications internal lord weapons wondering belief -> oil  \\\n",
       "0          3  ...            0        0    0       0         0      2  0   0   \n",
       "1          0  ...            0        0    0       0         0     15  0   0   \n",
       "2          1  ...            0        0    0       0         0      0  0   0   \n",
       "3          2  ...            0        0    0       0         0      0  0   0   \n",
       "4          0  ...            0        0    0       0         0      0  0   0   \n",
       "\n",
       "  stephanopoulos: base  \n",
       "0               0    0  \n",
       "1               0    0  \n",
       "2               0    1  \n",
       "3               0    0  \n",
       "4               0    0  \n",
       "\n",
       "[5 rows x 1000 columns]"
      ]
     },
     "execution_count": 11,
     "metadata": {},
     "output_type": "execute_result"
    }
   ],
   "source": [
    "dataset.head()"
   ]
  },
  {
   "cell_type": "markdown",
   "id": "17b6c6d4",
   "metadata": {},
   "source": [
    "* Now we are visiting every folder each file inside the folder, then for all files inside the folder we just store the store..which indicates the label... example if 1st folder has 1000 files then...we will have 1k entiries indicating 1 as label. this step is then performed for all the folder i.e newsgroup to obtain the labels."
   ]
  },
  {
   "cell_type": "code",
   "execution_count": 103,
   "id": "258b0dcb",
   "metadata": {},
   "outputs": [],
   "source": [
    "labels= []\n",
    "for i in range(len(folder)):\n",
    "    current_folder = os.listdir('C:/Users/vipin/Downloads/20_newsgroups/'+folder[i])\n",
    "    for j in range(len(current_folder)):\n",
    "        labels.append(i)        # storing index of every newgroup for each artical in that group...\n",
    "feature = dataset.values # Seperating all Xs(features)\n",
    "list_of_features = list(dataset) # Column headers or all list of features"
   ]
  },
  {
   "cell_type": "markdown",
   "id": "d1e0d520",
   "metadata": {},
   "source": [
    "* We are creating a dictionary of dictionary for each class which will have all the feature/column headers and their respective frequency of form and total occurancies for each class as well for finding class prob\n",
    "* dic = {\n",
    "*    0: {X1:frequency...},\n",
    "*    1: {X1:frequency...}\n",
    "*}"
   ]
  },
  {
   "cell_type": "code",
   "execution_count": 133,
   "id": "92d40197",
   "metadata": {},
   "outputs": [],
   "source": [
    "def result(x_train, y_train, class_list, list_of_features):\n",
    "    result = {}\n",
    "    result['Total'] = len(y_train)\n",
    "    y_train = np.array(y_train)\n",
    "\n",
    "    for kth_class in class_list:\n",
    "        result[kth_class] = {}\n",
    "        rows_belonging_kth_class = []\n",
    "        \n",
    "        for i in y_train:\n",
    "            if i == kth_class:\n",
    "                rows_belonging_kth_class.append(True)\n",
    "            else:\n",
    "                rows_belonging_kth_class.append(False)\n",
    "\n",
    "        kth_class_Features = x_train[rows_belonging_kth_class]\n",
    "        labels_kth_class_Features = y_train[rows_belonging_kth_class]\n",
    "\n",
    "        Total = 0\n",
    "        N = len(list_of_features)\n",
    "        for i in range(N):\n",
    "            ith_feature = list_of_features[i]\n",
    "            result[kth_class][ith_feature] = kth_class_Features[:,i].sum()\n",
    "            Total = Total + result[kth_class][ith_feature]\n",
    "\n",
    "        result[kth_class]['total_count'] = Total\n",
    "    \n",
    "    return result\n"
   ]
  },
  {
   "cell_type": "markdown",
   "id": "8d4d99b4",
   "metadata": {},
   "source": [
    "* We now go to our result dictionary for given class we find the probablity..then we find the probablity of each freature given the class we also consider adding smoothing parameters as 1 and N..and then finally return the probablity.."
   ]
  },
  {
   "cell_type": "code",
   "execution_count": 134,
   "id": "a20b980e",
   "metadata": {},
   "outputs": [],
   "source": [
    "def find_prob(row, result, clas, list_of_features):\n",
    "    N = len(list_of_features)\n",
    "    P = np.log(result[clas]['total_count']/result['Total'])\n",
    "    \n",
    "    for i in range(N):\n",
    "        ith_feature = list_of_features[i]\n",
    "        Xi_prob = np.log( (result[clas][ith_feature] + 1)/(result[clas]['total_count'] + N) )\n",
    "        \n",
    "        for j in range( int(row[i]) ):\n",
    "            P = P + Xi_prob \n",
    "    return P"
   ]
  },
  {
   "cell_type": "code",
   "execution_count": 138,
   "id": "cdaa0da9",
   "metadata": {},
   "outputs": [],
   "source": [
    "predictions = []\n",
    "X_train, X_test, Y_train, Y_test = train_test_split(feature, labels, test_size=0.2, random_state=1)\n",
    "class_list = list(np.unique(Y_test))\n",
    "class_Dic = result(X_train, Y_train, class_list,list_of_features)\n",
    "\n",
    "for ith_row in range(len(X_test)):\n",
    "    current_row = X_test[ith_row,:]\n",
    "    \n",
    "    \n",
    "    probablity = -9999\n",
    "    assigned_class = -1\n",
    "    flag = True \n",
    "    \n",
    "    for cls in class_list:\n",
    "        if( cls == 'Total'):\n",
    "            continue\n",
    "        \n",
    "        current_prob = find_prob(current_row, class_Dic, cls, list_of_features) # Probablity as P(Row|class)..doing it for all class..for all row\n",
    "        \n",
    "        # If P(Row|current-class) is higher then the existing probablity then we classify the row to current class... \n",
    "        if flag or current_prob > probablity: \n",
    "            probablity = current_prob\n",
    "            assigned_class = cls\n",
    "            \n",
    "        flag = False\n",
    "    # Finaly appending the class label of highest probablity for ith_row...follow the loop again for next row and append again..\n",
    "    predictions.append(assigned_class)\n",
    "        "
   ]
  },
  {
   "cell_type": "code",
   "execution_count": 144,
   "id": "501ab9eb",
   "metadata": {},
   "outputs": [
    {
     "name": "stdout",
     "output_type": "stream",
     "text": [
      "Accuracy Score:  81.23 %\n"
     ]
    },
    {
     "data": {
      "image/png": "[encoded data removed]",
      "text/plain": [
       "<Figure size 1440x1080 with 2 Axes>"
      ]
     },
     "metadata": {
      "needs_background": "light"
     },
     "output_type": "display_data"
    }
   ],
   "source": [
    "import matplotlib.pyplot as plt\n",
    "cMatrix = confusion_matrix(Y_test, predictions)\n",
    "score = accuracy_score(Y_test, predictions)\n",
    "print(\"Accuracy Score: \", round(score*100, 2) ,'%')\n",
    "\n",
    "plt.figure(figsize=(20, 15))\n",
    "sns.heatmap(cMatrix, annot=True, cmap='Blues')\n",
    "plt.show()"
   ]
  },
  {
   "cell_type": "markdown",
   "id": "369053fe",
   "metadata": {},
   "source": [
    "* references\n",
    "* https://medium.com/@dtuk81/confusion-matrix-visualization-fc31e3f30fea\n",
    "* https://pythonspot.com/nltk-stop-words/\n",
    "* https://stackoverflow.com/questions/49882682/how-do-i-list-folder-in-directory\n"
   ]
  }
 ],
 "metadata": {
  "kernelspec": {
   "display_name": "Python 3 (ipykernel)",
   "language": "python",
   "name": "python3"
  },
  "language_info": {
   "codemirror_mode": {
    "name": "ipython",
    "version": 3
   },
   "file_extension": ".py",
   "mimetype": "text/x-python",
   "name": "python",
   "nbconvert_exporter": "python",
   "pygments_lexer": "ipython3",
   "version": "3.9.7"
  }
 },
 "nbformat": 4,
 "nbformat_minor": 5
}
